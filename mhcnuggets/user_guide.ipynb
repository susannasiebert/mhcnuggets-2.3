{
 "cells": [
  {
   "cell_type": "markdown",
   "metadata": {},
   "source": [
    "# MHCnuggets User Guide\n",
    "This is a simple jupyter notebook illustrating how to incorporate MHCnuggets into your work flow"
   ]
  },
  {
   "cell_type": "markdown",
   "metadata": {},
   "source": [
    "# Installation\n",
    "MHCnuggets is pip installable as \n",
    "```bash\n",
    "pip install mhcnuggets\n",
    "```"
   ]
  },
  {
   "cell_type": "markdown",
   "metadata": {},
   "source": [
    "# Prediction\n",
    "MHCnuggets is a pan predictor that can make an IC50 binding affinity prediction on any MHC allele. However, its prediction is more reliable for alleles that are present in the IEDB. For a complete list of these alleles, refer to the `alleles_with_trained_models.txt` in the production data folders.\n",
    "\n",
    "For alleles with available mass spectrometry (HLAp) training data, models incorporating binding affinity (BA) and HLAp data were trained (data at https://data.mendeley.com/datasets/8pz43nvvxh/3, abelin_peptides.mhcflurry_no_mass_spec.csv.bz2, provided by Tim O'Donnell and the Abelin et al. group). If available, these blended models (BA_to_HLAp) will be used by default unless the user specifically requests to use a pure BA model (example shown below)"
   ]
  },
  {
   "cell_type": "code",
   "execution_count": null,
   "metadata": {},
   "outputs": [],
   "source": [
    "# importing the predict module\n",
    "from mhcnuggets.src.predict import predict\n",
    "\n",
    "# predicting new line separated peptides present in the peptides_path file \n",
    "# for MHC class_I allele HLA-A02:01. Since a MS_BA blend model is available,\n",
    "# this prediction will use the blended model (HLA-A02:01_BA_to_HLAp.h5)\n",
    "predict(class_='I',\n",
    "        peptides_path='data/test/test_peptides.peps', \n",
    "        mhc='HLA-A02:01')\n",
    "\n",
    "# This prediction will use a pure BA model (HLA-A02:01_BA.h5)\n",
    "predict(class_='I',\n",
    "        peptides_path='data/test/test_peptides.peps', \n",
    "        mhc='HLA-A02:01', ba_models=True)\n",
    "\n",
    "# similarly doing the same prediction for MHC class_II allele HLA-DRB101:01\n",
    "# No MS_BA blend models are available for class II alleles, so this prediction will use a pure BA model\n",
    "predict(class_='II',\n",
    "        peptides_path='data/test/test_peptides.peps', \n",
    "        mhc='HLA-DRB101:01')\n",
    "\n",
    "# as an example of prediction of rare alleles asking MHCnuggets to make predictions for HLA-A02:60\n",
    "# will make it search for the closest allele (HLA-A*02:01 in this case), and use the corresponding \n",
    "# network for prediction\n",
    "predict(class_='I',\n",
    "        peptides_path='data/test/test_peptides.peps', \n",
    "        mhc='HLA-A02:60')\n"
   ]
  },
  {
   "cell_type": "markdown",
   "metadata": {},
   "source": [
    "The above lines of code demonstrate using the default MHCnuggets models that are trained on the latest pull from IEDB. If you want to predict using your own models: "
   ]
  },
  {
   "cell_type": "code",
   "execution_count": null,
   "metadata": {},
   "outputs": [],
   "source": [
    "# predicting using a user trained model\n",
    "# Replace the model_weights_path with the path to your model\n",
    "# To test if your predictions are working correctly - the output of this command should match the output shown in \n",
    "# saves/test/HLA-A01:01_test_model.predictions\n",
    "predict(class_='I',\n",
    "        peptides_path='data/test/test_peptides.peps', \n",
    "        mhc='HLA-A02:01', model_weights_path='saves/test/HLA-A01:01_test_model.h5')"
   ]
  },
  {
   "cell_type": "markdown",
   "metadata": {},
   "source": [
    "# Training\n",
    "MHCnuggets allows users to train their own models on their own datasets using either binding affinity (BA) or mass spectrometry (HLAp) data. The recommended protocol for trainning MHCnuggets utilizes transfer learning described in the publication. Briefly, to train a binding affinity model, one trains a model for HLA-A02:01 and HLA-DRB101:01 for 200 epochs, then trains all other alleles for 100 epochs with one of the aforementioned alleles as the base transfer weights, and finally, fine tunes certain alleles (refer to the `mhc_tuning.csv` file in the production data folders) for 25 epochs. Note that the transfer of weights occurs within the same MHC class, i.e. one can't tune the weights of a class II allele with a class I allele. This process is demonstrated below for the training for class I alleles: HLA-A02:01, HLA-B08:01, and HLA-B08:02\n",
    "\n",
    "To train a model incorporating both HLAp and BA data, one trains a model for HLA-A\\*02:01 for 200 epochs on BA data, then trains the allele of interest for 100 epochs on BA data with the HLA-A02:01 base transfer weights, and finally trains the allele of interest for 100 epochs on HLAp data using the allele's BA model base transfer weights. This process is demonstrated below for the training of a BA_to_HLAp model of HLA-A01:01."
   ]
  },
  {
   "cell_type": "code",
   "execution_count": null,
   "metadata": {
    "scrolled": true
   },
   "outputs": [],
   "source": [
    "# importing the train module\n",
    "from mhcnuggets.src.train import train\n",
    "\n",
    "# ----------- Training with binding affinity data ----------------\n",
    "# training MHC class_I allele HLA-A02:01 using data present in the data file from scratch \n",
    "train(class_='I', data='data/production/mhcI/curated_training_data.csv',\n",
    "      mhc='HLA-A02:01', save_path='saves/test/test_A02:01_BA.h5', n_epoch=200)\n",
    "\n",
    "# training MHC class I allele HLA-B08:01 using transfer weights from class I allele HLA-A02:01\n",
    "train(class_='I', data='data/production/mhcI/curated_training_data.csv',\n",
    "      mhc='HLA-B08:01', save_path='saves/test/test_B08:01_BA.h5', n_epoch=100,\n",
    "      transfer_path='saves/test/test_A02:01_BA.h5')\n",
    "\n",
    "# training MHC class I allele HLA-B08:02 using transfer weights from class I allele\n",
    "# HLA-B08:01, note that this is only train for n_epochs=25\n",
    "train(class_='I', data='data/production/mhcI/curated_training_data.csv',\n",
    "      mhc='HLA-B08:02', save_path='saves/test/test_B08:02_BA.h5', n_epoch=25,\n",
    "      transfer_path='saves/test/test_B08:01_BA.h5')\n",
    "\n",
    "# ----------- Training with HLAp and BA data ----------------\n",
    "# training MHC class_I allele HLA-A02:01 using data present in the data file from scratch (BA training)\n",
    "train(class_='I', data='data/production/mhcI/curated_training_data.csv',\n",
    "      mhc='HLA-A02:01', save_path='saves/test/test_A02:01_BA.h5', n_epoch=200)\n",
    "\n",
    "# training MHC class I allele HLA-A01:01 using transfer weights from class I allele HLA-A02:01 (BA training)\n",
    "train(class_='I', data='data/production/mhcI/curated_training_data.csv',\n",
    "      mhc='HLA-A01:01', save_path='saves/test/test_A01:01_BA.h5', n_epoch=100,\n",
    "      transfer_path='saves/test/test_A02:01_BA.h5')\n",
    "\n",
    "# training MHC class I allele HLA-A01:01 on HLAp data using transfer weights \n",
    "# from the HLA-A01:01 BA model\n",
    "# NOTE: For this command to work, download the HLAp data at\n",
    "# https://data.mendeley.com/datasets/8pz43nvvxh/3, abelin_peptides.mhcflurry_no_mass_spec.csv.bz2\n",
    "# and replaec the 'data' path to the path to the unzipped dataset\n",
    "train(class_='I', data='local path to downloaded mass spec data', mass_spec=True,\n",
    "      mhc='HLA-A01:01', save_path='saves/test/test_A01:01_BA_to_HLAp.h5', n_epoch=25,\n",
    "      transfer_path='saves/test/test_A01:01_BA.h5')\n"
   ]
  },
  {
   "cell_type": "markdown",
   "metadata": {},
   "source": [
    "# Evaluation\n",
    "MHCnuggets allows users to evaluate the training process through 3 metrics: AUC, F1, and Kendall Tau. This allows for evaluation of either user trained or default MHCnuggets models found in the `saves` directory. "
   ]
  },
  {
   "cell_type": "code",
   "execution_count": null,
   "metadata": {},
   "outputs": [],
   "source": [
    "# importing the evaluation module\n",
    "from mhcnuggets.src.evaluate import test\n",
    "\n",
    "# Evaluating training performance of model HLA-A01:01_test_model.h5 on peptides \n",
    "# corresponding to class I allele HLA-A01:01 in database given by the \n",
    "# data path. \n",
    "test(class_='I',\n",
    "     data='data/production/mhcI/curated_training_data.csv',\n",
    "     model_path='saves/test/HLA-A01:01_test_model.h5', mhc='HLA-A01:01')"
   ]
  }
 ],
 "metadata": {
  "kernelspec": {
   "display_name": "Python 2",
   "language": "python",
   "name": "python2"
  },
  "language_info": {
   "codemirror_mode": {
    "name": "ipython",
    "version": 2
   },
   "file_extension": ".py",
   "mimetype": "text/x-python",
   "name": "python",
   "nbconvert_exporter": "python",
   "pygments_lexer": "ipython2",
   "version": "2.7.15"
  }
 },
 "nbformat": 4,
 "nbformat_minor": 2
}
