{
 "cells": [
  {
   "cell_type": "markdown",
   "metadata": {},
   "source": [
    "# MHCnuggets User Guide\n",
    "This is a simple jupyter notebook illustrating how to incorporate MHCnuggets into your work flow"
   ]
  },
  {
   "cell_type": "markdown",
   "metadata": {},
   "source": [
    "# Installation\n",
    "MHCnuggets is pip installable as \n",
    "```bash\n",
    "pip install mhcnuggets\n",
    "```"
   ]
  },
  {
   "cell_type": "markdown",
   "metadata": {},
   "source": [
    "# Prediction\n",
    "MHCnuggets is a pan predictor that can make a IC50 binding affinity prediction on any MHC alleles. However, its prediction is more reliable for alleles that are present in the IEDB. For a complete list of alleles refer to the `supported_alleles.txt` in the production data folders."
   ]
  },
  {
   "cell_type": "code",
   "execution_count": null,
   "metadata": {
    "collapsed": true
   },
   "outputs": [],
   "source": [
    "# importing the predict module\n",
    "from mhcnuggets.src.predict import predict\n",
    "\n",
    "# predicting new line separated peptides present in the peptides_path file \n",
    "# for MHC class_I allele HLA-A*02:01\n",
    "predict(class_='I',\n",
    "        peptides_path='mhcnuggets/data/test/test_peptides.peps', \n",
    "        mhc='HLA-A02:01')\n",
    "\n",
    "# similarly doing the same prediction for MHC class_II allele HLA-DRB1*01:01\n",
    "predict(class_='II',\n",
    "        peptides_path='mhcnuggets/data/test/test_peptides.peps', \n",
    "        mhc='HLA-DRB101:01')\n",
    "\n",
    "# as an example of prediction of rare alleles asking MHCnuggets to make predictions for HLA-A*02:60\n",
    "# will make it search for the closest allele (HLA-A*02:01 in this case), and use the corresponding \n",
    "# network for prediction\n",
    "predict(class_='I',\n",
    "        peptides_path='mhcnuggets/data/test/test_peptides.peps', \n",
    "        mhc='HLA-A02:60')\n"
   ]
  },
  {
   "cell_type": "markdown",
   "metadata": {},
   "source": [
    "The above lines of code demonstrate using the default MHCnuggets models that are trained on the latest pull from IEDB. If you want to predict using your own models: "
   ]
  },
  {
   "cell_type": "code",
   "execution_count": null,
   "metadata": {
    "collapsed": true
   },
   "outputs": [],
   "source": [
    "# predicting using a user trained model \n",
    "predict(class_='I',\n",
    "        peptides_path='mhcnuggets/data/test/test_peptides.peps', \n",
    "        mhc='HLA-A02:01', weights_path='mhcnuggets/saves/test/testI.h5')"
   ]
  },
  {
   "cell_type": "markdown",
   "metadata": {},
   "source": [
    "# Training\n",
    "MHCnuggets allows users to train their own models on their own datasets. The recommended protocol for trainning MHCnuggets utilizes transfer learning described in the publication. Briefly, one starts with training a model for HLA-A\\*02:01 and HLA-DRB1\\*01:01 for 100 epochs, then training all other alleles for 100 epochs with one of the aforementioned alleles as the base transfer weights, and finally, fine tuning certain alleles (refer to the `mhc_tuning.csv` file in the production data folders) for 25 epochs. Note that the transfer of weights occurs within the same MHC supertype, i.e. one can't tune the weights of a class II allele with a class I allele. This process is demonstrated below for the training for class I alleles: HLA-A\\*02:01, HLA-B\\*08:01, and HLA-B\\*08:02."
   ]
  },
  {
   "cell_type": "code",
   "execution_count": null,
   "metadata": {
    "collapsed": true
   },
   "outputs": [],
   "source": [
    "# importing the train module\n",
    "from mhcnuggets.src.train import train\n",
    "\n",
    "# training MHC class_I allele HLA-A*02:01 using data present in the data file from scratch \n",
    "train(class_='I', data='mhcnuggets/data/production/mhcI/curated_training_data.csv',\n",
    "      mhc='HLA-A02:01', save_path='test_A02:01.h5', n_epoch=100)\n",
    "\n",
    "# training MHC class I allele HLA-B*08:01 using transfer weights from class I allele\n",
    "# HLA-A*02:01\n",
    "train(class_='I', data='mhcnuggets/data/production/mhcI/curated_training_data.csv',\n",
    "      mhc='HLA-B08:01', save_path='test_B08:01.h5', n_epoch=100, transfer_path='test_A02:01.h5')\n",
    "\n",
    "# training MHC class I allele HLA-B*08:02 using transfer weights from class I allele\n",
    "# HLA-B*08:01, note that this is only train for n_epochs=25\n",
    "train(class_='I', data='mhcnuggets/data/production/mhcI/curated_training_data.csv',\n",
    "      mhc='HLA-B08:02', save_path='test_B08:02.h5', n_epoch=25, transfer_path='test_B08:01.h5')\n"
   ]
  },
  {
   "cell_type": "markdown",
   "metadata": {},
   "source": [
    "# Evaluation\n",
    "MHCnuggets allows users to evaluate the training process through 3 metrics: AUC, F1, and Kendall Tau. This allows for evaluation of either user trained or default MHCnuggets models found in the `saves` directory. "
   ]
  },
  {
   "cell_type": "code",
   "execution_count": null,
   "metadata": {
    "collapsed": true
   },
   "outputs": [],
   "source": [
    "# importing the evaluation module\n",
    "from mhcnuggets.src.evaluate import test\n",
    "\n",
    "# Evaluating training performance of model test.h5 on peptides \n",
    "# correspondingn to class I allele HLA-B*08:01 in database given by the \n",
    "# data path. \n",
    "test(class_='I',\n",
    "     data='mhcnuggets/data/production/mhcI/curated_training_data.csv',\n",
    "     model_path='test.h5', mhc='HLA-B08:01')"
   ]
  }
 ],
 "metadata": {
  "kernelspec": {
   "display_name": "Python 2",
   "language": "python",
   "name": "python2"
  },
  "language_info": {
   "codemirror_mode": {
    "name": "ipython",
    "version": 2
   },
   "file_extension": ".py",
   "mimetype": "text/x-python",
   "name": "python",
   "nbconvert_exporter": "python",
   "pygments_lexer": "ipython2",
   "version": "2.7.13"
  }
 },
 "nbformat": 4,
 "nbformat_minor": 2
}
